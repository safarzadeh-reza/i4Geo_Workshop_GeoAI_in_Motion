{
 "cells": [
  {
   "cell_type": "markdown",
   "metadata": {
    "id": "AOK4A0sx_J18"
   },
   "source": [
    "# Hands-on Python Excersises:\n",
    "\n",
    "- Tutorial 0 : Getting Started with Movingpandas\n",
    "- Tutorial 1 : Trajectory Preprocessing\n",
    "- ***Tutorial 2 : Taxi Trajectory Dashboard Visualization***\n"
   ]
  },
  {
   "cell_type": "markdown",
   "metadata": {
    "id": "uRqBBN0n_OFr"
   },
   "source": [
    "```\n",
    "! pip install movingpandas\n",
    "\n",
    "! pip install cartopy\n",
    "\n",
    "! pip install geoviews\n",
    "\n",
    "! pip install mapclassify\n",
    "\n",
    "! pip install keplergl\n",
    "```"
   ]
  },
  {
   "cell_type": "code",
   "execution_count": null,
   "metadata": {
    "executionInfo": {
     "elapsed": 10,
     "status": "ok",
     "timestamp": 1742261788098,
     "user": {
      "displayName": "reza safarzadeh",
      "userId": "02487800440677019386"
     },
     "user_tz": 360
    },
    "id": "KarzvRbT4b0I"
   },
   "outputs": [],
   "source": [
    "# ! pip install movingpandas\n",
    "# ! pip install cartopy\n",
    "# ! pip install geoviews\n",
    "# ! pip install mapclassify\n",
    "# ! pip install keplergl"
   ]
  },
  {
   "cell_type": "code",
   "execution_count": null,
   "metadata": {
    "colab": {
     "base_uri": "https://localhost:8080/"
    },
    "executionInfo": {
     "elapsed": 14319,
     "status": "ok",
     "timestamp": 1742261805016,
     "user": {
      "displayName": "reza safarzadeh",
      "userId": "02487800440677019386"
     },
     "user_tz": 360
    },
    "id": "Al335XjW_Uf5",
    "outputId": "bb0322ad-6173-4ba7-f88e-918edb54e7ab"
   },
   "outputs": [],
   "source": [
    "from google.colab import drive\n",
    "drive.mount('/content/drive')"
   ]
  },
  {
   "cell_type": "markdown",
   "metadata": {
    "id": "NJNJkic9_J2D"
   },
   "source": [
    "In this dashboard, first we are going to find origin-destination matrices and major flow analysis and then show them on a simple map dashboard."
   ]
  },
  {
   "cell_type": "markdown",
   "metadata": {
    "id": "8_6PwVnO_J2E"
   },
   "source": [
    "### Load and prepare data"
   ]
  },
  {
   "cell_type": "code",
   "execution_count": null,
   "metadata": {
    "colab": {
     "base_uri": "https://localhost:8080/"
    },
    "executionInfo": {
     "elapsed": 3808,
     "status": "ok",
     "timestamp": 1742261808823,
     "user": {
      "displayName": "reza safarzadeh",
      "userId": "02487800440677019386"
     },
     "user_tz": 360
    },
    "id": "zw4lY8eJ_J2F",
    "outputId": "a3e908c5-a0dd-481e-9416-7039d98811e5"
   },
   "outputs": [],
   "source": [
    "import pandas as pd\n",
    "import geopandas as gpd\n",
    "import movingpandas as mpd\n",
    "import shapely as shp\n",
    "import matplotlib.pyplot as plt\n",
    "\n",
    "from geopandas import GeoDataFrame, read_file\n",
    "from shapely.geometry import Point, LineString, Polygon\n",
    "from datetime import datetime, timedelta\n",
    "\n",
    "import folium\n",
    "\n",
    "import warnings\n",
    "\n",
    "warnings.filterwarnings(\"ignore\")"
   ]
  },
  {
   "cell_type": "code",
   "execution_count": null,
   "metadata": {
    "colab": {
     "base_uri": "https://localhost:8080/",
     "height": 112
    },
    "executionInfo": {
     "elapsed": 2689,
     "status": "ok",
     "timestamp": 1742261825974,
     "user": {
      "displayName": "reza safarzadeh",
      "userId": "02487800440677019386"
     },
     "user_tz": 360
    },
    "id": "gdrnH_vU_J2I",
    "outputId": "67a0cdb6-03f2-4fae-9585-614c27669901"
   },
   "outputs": [],
   "source": [
    "path = \"/content/drive/MyDrive/i4Geo_Workshop/new_taxi_porto.csv\"\n",
    "\n",
    "taxi_data = pd.read_csv(path)\n",
    "# taxi_data = taxi_data.head(50000)\n",
    "taxi_data.head(2)"
   ]
  },
  {
   "cell_type": "code",
   "execution_count": null,
   "metadata": {
    "colab": {
     "base_uri": "https://localhost:8080/",
     "height": 424
    },
    "executionInfo": {
     "elapsed": 1257,
     "status": "ok",
     "timestamp": 1742262023919,
     "user": {
      "displayName": "reza safarzadeh",
      "userId": "02487800440677019386"
     },
     "user_tz": 360
    },
    "id": "VOGCPTeA5siU",
    "outputId": "c5845582-05ab-448a-df3e-afa2895b6f76"
   },
   "outputs": [],
   "source": [
    "# prompt: filter the taxi data based on datetime between 2013-07-01 00:00:00 and 2013-07-02 00:00:00\n",
    "\n",
    "# Convert 'TIMESTAMP' column to datetime objects\n",
    "taxi_data['datetime'] = pd.to_datetime(taxi_data['datetime'])\n",
    "\n",
    "# Filter the dataframe based on the datetime range\n",
    "filtered_taxi_data = taxi_data[(taxi_data['datetime'] >= '2013-07-01 00:00:00') &\n",
    "                               (taxi_data['datetime'] <= '2013-07-02 00:00:00')]\n",
    "\n",
    "filtered_taxi_data\n"
   ]
  },
  {
   "cell_type": "code",
   "execution_count": null,
   "metadata": {
    "colab": {
     "base_uri": "https://localhost:8080/"
    },
    "executionInfo": {
     "elapsed": 15902,
     "status": "ok",
     "timestamp": 1742262060835,
     "user": {
      "displayName": "reza safarzadeh",
      "userId": "02487800440677019386"
     },
     "user_tz": 360
    },
    "id": "EsBbVrTq_J2I",
    "outputId": "626b99aa-3c7a-4338-850b-fad1b89878dd"
   },
   "outputs": [],
   "source": [
    "traj_collection = mpd.TrajectoryCollection(filtered_taxi_data, \"TRIP_ID\", t=\"datetime\", y=\"latitude\", x=\"longitude\", crs=4326)\n",
    "print(traj_collection)"
   ]
  },
  {
   "cell_type": "markdown",
   "metadata": {
    "id": "xfF5-X_w_J2J"
   },
   "source": [
    "## Extracting O-D Matrix"
   ]
  },
  {
   "cell_type": "code",
   "execution_count": null,
   "metadata": {
    "executionInfo": {
     "elapsed": 1499,
     "status": "ok",
     "timestamp": 1742262067416,
     "user": {
      "displayName": "reza safarzadeh",
      "userId": "02487800440677019386"
     },
     "user_tz": 360
    },
    "id": "vop04Mji_J2J"
   },
   "outputs": [],
   "source": [
    "from sklearn.cluster import DBSCAN\n",
    "from geopy.distance import great_circle\n",
    "from shapely.geometry import Point, LineString, Polygon, MultiPoint\n",
    "import numpy as np\n",
    "import math"
   ]
  },
  {
   "cell_type": "code",
   "execution_count": null,
   "metadata": {
    "executionInfo": {
     "elapsed": 8,
     "status": "ok",
     "timestamp": 1742262068310,
     "user": {
      "displayName": "reza safarzadeh",
      "userId": "02487800440677019386"
     },
     "user_tz": 360
    },
    "id": "RL8xLrR4_J2J"
   },
   "outputs": [],
   "source": [
    "# This function creates a line (a LineString) between two points representing the origin and destination.\n",
    "def make_od_line(row, od_clusters):\n",
    "    # We create a line connecting the origin (first element) and destination (last element).\n",
    "    return LineString([\n",
    "        od_clusters.loc[row['od'][0]].geometry,  # Origin point geometry\n",
    "        od_clusters.loc[row['od'][-1]].geometry  # Destination point geometry\n",
    "    ])\n",
    "\n",
    "\n",
    "# This function determines the \"centermost\" point in a cluster, which is the point closest to the cluster's centroid.\n",
    "def get_centermost_point(cluster):\n",
    "    # Create a MultiPoint object from all the points in the cluster and calculate its centroid.\n",
    "    centroid = (MultiPoint(cluster).centroid.x, MultiPoint(cluster).centroid.y)\n",
    "    # Find the point in the cluster that is closest to the centroid using the great-circle distance.\n",
    "    centermost_point = min(cluster, key=lambda point: great_circle(point, centroid).m)\n",
    "    # Return the centermost point as a Shapely Point.\n",
    "    # Note: The coordinate order is swapped (lat, lon) to (lon, lat) as needed.\n",
    "    return Point(tuple(centermost_point)[1], tuple(centermost_point)[0])\n",
    "\n",
    "\n",
    "# This function applies the DBSCAN clustering algorithm to group OD points based on their latitude and longitude.\n",
    "def dbscan_cluster_ods(od_gdf, eps):\n",
    "    # Convert the 'lat' and 'lon' columns of the GeoDataFrame into a numpy array for clustering.\n",
    "    matrix = od_gdf[['lat', 'lon']].to_numpy()\n",
    "    # Apply DBSCAN clustering with the following settings:\n",
    "    # - eps: The maximum distance between two samples for one to be considered as in the neighborhood of the other.\n",
    "    # - min_samples=1: Even a single point can form a cluster.\n",
    "    # - algorithm='ball_tree' and metric='haversine': Suitable for geographic coordinates.\n",
    "    db = DBSCAN(eps=eps, min_samples=1, algorithm='ball_tree', metric='haversine').fit(np.radians(matrix))\n",
    "    # Retrieve the cluster labels assigned by DBSCAN for each point.\n",
    "    cluster_labels = db.labels_\n",
    "    # Determine the total number of unique clusters.\n",
    "    num_clusters = len(set(cluster_labels))\n",
    "    # Create a Series where each element is an array of points belonging to a particular cluster.\n",
    "    clusters = pd.Series([matrix[cluster_labels == n] for n in range(num_clusters)])\n",
    "    # Return the cluster labels and the clusters themselves.\n",
    "    return cluster_labels, clusters\n",
    "\n",
    "\n",
    "# This function extracts the origin and destination points from a collection of trips and combines them into one GeoDataFrame.\n",
    "def extract_od_gdf(trips):\n",
    "    # Get the starting locations of all trips.\n",
    "    origins = trips.get_start_locations()\n",
    "    origins = origins.reset_index(drop=True)\n",
    "    origins['type'] = '0'  # Label these points as origins.\n",
    "    # Assign each origin a unique trip identifier.\n",
    "    origins['traj_id'] = [trip.id for trip in trips]\n",
    "\n",
    "    # Get the ending locations of all trips.\n",
    "    destinations = trips.get_end_locations()\n",
    "    destinations = destinations.reset_index(drop=True)\n",
    "    destinations['type'] = '1'  # Label these points as destinations.\n",
    "    # Assign each destination the corresponding trip identifier.\n",
    "    destinations['traj_id'] = [trip.id for trip in trips]\n",
    "\n",
    "    # Combine both origins and destinations into one GeoDataFrame.\n",
    "    od = pd.concat([origins, destinations], ignore_index=True)\n",
    "    # Extract latitude and longitude values from the point geometry for further processing.\n",
    "    od['lat'] = od.geometry.y\n",
    "    od['lon'] = od.geometry.x\n",
    "    return od\n",
    "\n",
    "# This function clusters the OD points and creates representative cluster nodes.\n",
    "def extract_od_clusters(od_gdf, eps):\n",
    "    # Cluster the OD points using DBSCAN.\n",
    "    cluster_labels, clusters = dbscan_cluster_ods(od_gdf, eps)\n",
    "    # Assign the computed cluster labels to each point in the GeoDataFrame.\n",
    "    od_gdf['cluster'] = cluster_labels\n",
    "    # Group the points by their cluster label.\n",
    "    od_by_cluster = pd.DataFrame(od_gdf).groupby(['cluster'])\n",
    "    # Count the number of points in each cluster.\n",
    "    clustered = od_by_cluster.size().to_frame(name='n')\n",
    "    # Calculate a symbol size for each cluster (used later for visualization) based on the number of points.\n",
    "    clustered['symbol_size'] = (clustered['n']**(1/2)) * 10  # Larger clusters get bigger symbols.\n",
    "    # Determine a representative geometry (centermost point) for each cluster.\n",
    "    clustered['geometry'] = clusters.map(get_centermost_point)\n",
    "    # Filter out clusters with zero points and sort them by size (number of points) in descending order.\n",
    "    clustered = clustered[clustered['n'] > 0].sort_values(by='n', ascending=False)\n",
    "    return clustered\n",
    "\n",
    "# This function creates an Origin-Destination (OD) matrix from a collection of trips.\n",
    "# It also associates each OD pair with a geometry (a line connecting the representative cluster points).\n",
    "def extract_od_matrix(traj_collection, eps, directed=True):\n",
    "    # Extract origin-destination points from the trips.\n",
    "    od_gdf = extract_od_gdf(traj_collection)\n",
    "    # Cluster these points to create representative nodes.\n",
    "    matrix_nodes = extract_od_clusters(od_gdf, eps)\n",
    "    # Group the OD points by trip ID, preserving the order (origins come before destinations).\n",
    "    od_by_traj_id = pd.DataFrame(od_gdf).sort_values(['type']).groupby(['traj_id'])\n",
    "    # For each trip, retrieve the unique cluster labels for its origin and destination.\n",
    "    # The unique() function maintains the order of the points.\n",
    "    od_by_traj_id = od_by_traj_id['cluster'].unique().to_frame(name='clusters')\n",
    "\n",
    "    # Depending on whether the OD matrix should be directed or undirected:\n",
    "    if directed:\n",
    "        # For directed OD, keep the order (origin, destination) as they are.\n",
    "        od_matrix = od_by_traj_id.groupby(od_by_traj_id['clusters'].apply(tuple)).count().rename({'clusters': 'n'}, axis=1)\n",
    "    else:\n",
    "        # For undirected OD, sort the cluster labels so that the order does not matter.\n",
    "        od_matrix = od_by_traj_id.groupby(od_by_traj_id['clusters'].apply(sorted).apply(tuple)).count().rename({'clusters': 'n'}, axis=1)\n",
    "\n",
    "    # Add the OD pair as a new column based on the grouping index.\n",
    "    od_matrix['od'] = od_matrix.index\n",
    "    # For each OD pair, create a LineString geometry connecting the corresponding cluster nodes.\n",
    "    od_matrix['geometry'] = od_matrix.apply(\n",
    "        lambda x: make_od_line(row=x, od_clusters=matrix_nodes), axis=1\n",
    "    )\n",
    "    # Return both the OD matrix (with counts and geometries) and the cluster nodes used for mapping.\n",
    "    return od_matrix, matrix_nodes"
   ]
  },
  {
   "cell_type": "code",
   "execution_count": null,
   "metadata": {
    "colab": {
     "base_uri": "https://localhost:8080/"
    },
    "executionInfo": {
     "elapsed": 14129,
     "status": "ok",
     "timestamp": 1742263958828,
     "user": {
      "displayName": "reza safarzadeh",
      "userId": "02487800440677019386"
     },
     "user_tz": 360
    },
    "id": "zQHaJoSH_J2K",
    "outputId": "702a5713-2040-4b0b-a2f2-68b49b93ccd8"
   },
   "outputs": [],
   "source": [
    "# Define the Earth's radius in kilometers.\n",
    "KMS_PER_RADIAN = 6371.0088\n",
    "# Define EPSILON as 0.05 kilometers (50 meters) converted to radians.\n",
    "EPSILON = 0.03 / KMS_PER_RADIAN\n",
    "od_matrix, matrix_nodes = extract_od_matrix(traj_collection, EPSILON*5, directed=False)\n",
    "print(\"The number of stops point after clustering is {} \".format(len(matrix_nodes)))"
   ]
  },
  {
   "cell_type": "code",
   "execution_count": null,
   "metadata": {
    "colab": {
     "base_uri": "https://localhost:8080/",
     "height": 238
    },
    "executionInfo": {
     "elapsed": 486,
     "status": "ok",
     "timestamp": 1742277485433,
     "user": {
      "displayName": "reza safarzadeh",
      "userId": "02487800440677019386"
     },
     "user_tz": 360
    },
    "id": "M7k_6sSR_J2K",
    "outputId": "117f20fb-33f4-413d-bf72-b2ccf734ccc7"
   },
   "outputs": [],
   "source": [
    "matrix_nodes.head(5)"
   ]
  },
  {
   "cell_type": "code",
   "execution_count": null,
   "metadata": {
    "colab": {
     "base_uri": "https://localhost:8080/",
     "height": 807,
     "output_embedded_package_id": "1XTWGetNSZvnqmqzj4DAy5q47h9mqTN6r"
    },
    "executionInfo": {
     "elapsed": 78600,
     "status": "ok",
     "timestamp": 1742264047739,
     "user": {
      "displayName": "reza safarzadeh",
      "userId": "02487800440677019386"
     },
     "user_tz": 360
    },
    "id": "yyGP41l9_J2L",
    "outputId": "7449d0ee-fefd-4216-df6b-32715b8035b6"
   },
   "outputs": [],
   "source": [
    "matrix_nodes_geodataframe = gpd.GeoDataFrame(matrix_nodes, geometry='geometry')\n",
    "matrix_nodes_geodataframe.crs = 4326\n",
    "\n",
    "m = traj_collection.explore(name = \"Taxi trips\", style_kwds={\"weight\": 1}, color=\"blue\")\n",
    "matrix_nodes_geodataframe.explore(\n",
    "    m = m,\n",
    "    column=\"symbol_size\",\n",
    "    style_kwds={\n",
    "        \"style_function\": lambda x: {\"radius\": math.sqrt(x[\"properties\"][\"symbol_size\"])*2},\n",
    "    },\n",
    "    name=\"Stop points\",\n",
    ")\n",
    "\n",
    "folium.TileLayer(\"CartoDB positron\").add_to(m)\n",
    "folium.LayerControl().add_to(m)\n",
    "\n",
    "m"
   ]
  },
  {
   "cell_type": "code",
   "execution_count": null,
   "metadata": {
    "colab": {
     "base_uri": "https://localhost:8080/",
     "height": 807
    },
    "executionInfo": {
     "elapsed": 349,
     "status": "ok",
     "timestamp": 1742264144589,
     "user": {
      "displayName": "reza safarzadeh",
      "userId": "02487800440677019386"
     },
     "user_tz": 360
    },
    "id": "AKcc1CjJ_J2L",
    "outputId": "0db9cd4d-541c-4cd0-825b-0c7c40773f3a"
   },
   "outputs": [],
   "source": [
    "od_matrix_geodataframe = gpd.GeoDataFrame(od_matrix, geometry='geometry')\n",
    "od_matrix_geodataframe.crs = 4326\n",
    "\n",
    "m = od_matrix_geodataframe.explore(\n",
    "    name = \"Taxi flows\",\n",
    "    style_kwds={\n",
    "        \"style_function\": lambda x: {\"weight\": (x[\"properties\"][\"n\"])**0.6}\n",
    "    },\n",
    "    color=\"blue\")\n",
    "\n",
    "\n",
    "matrix_nodes_geodataframe.explore(\n",
    "    m = m,\n",
    "    column=\"symbol_size\",\n",
    "    style_kwds={\n",
    "        \"style_function\": lambda x: {\"radius\": math.sqrt(x[\"properties\"][\"symbol_size\"])*2},\n",
    "    },\n",
    "    name=\"Stop points\",\n",
    ")\n",
    "\n",
    "folium.TileLayer(\"CartoDB positron\").add_to(m)\n",
    "folium.LayerControl().add_to(m)\n",
    "\n",
    "m"
   ]
  },
  {
   "cell_type": "markdown",
   "metadata": {
    "id": "4YNu2kV-_J2M"
   },
   "source": [
    "## Advanced Visualization using Kepler GL"
   ]
  },
  {
   "cell_type": "markdown",
   "metadata": {
    "id": "eXcXkDc__J2M"
   },
   "source": [
    "https://github.com/keplergl/kepler.gl/blob/master/bindings/kepler.gl-jupyter/README.md"
   ]
  },
  {
   "cell_type": "code",
   "execution_count": null,
   "metadata": {
    "executionInfo": {
     "elapsed": 4,
     "status": "ok",
     "timestamp": 1742264179022,
     "user": {
      "displayName": "reza safarzadeh",
      "userId": "02487800440677019386"
     },
     "user_tz": 360
    },
    "id": "VguTiR_l_J2M"
   },
   "outputs": [],
   "source": [
    "from keplergl import KeplerGl"
   ]
  },
  {
   "cell_type": "markdown",
   "metadata": {
    "id": "VBOw3VnRJKV5"
   },
   "source": [
    "Prepare data for Kepler GL"
   ]
  },
  {
   "cell_type": "code",
   "execution_count": null,
   "metadata": {
    "colab": {
     "base_uri": "https://localhost:8080/",
     "height": 143
    },
    "executionInfo": {
     "elapsed": 13231,
     "status": "ok",
     "timestamp": 1742264193686,
     "user": {
      "displayName": "reza safarzadeh",
      "userId": "02487800440677019386"
     },
     "user_tz": 360
    },
    "id": "EJ3BhUyhIHUT",
    "outputId": "e2d7d5ac-a1a2-4cf5-b2cb-986ea20290e4"
   },
   "outputs": [],
   "source": [
    "od_geodataframe = extract_od_gdf(traj_collection)\n",
    "od_geodataframe.head(3)"
   ]
  },
  {
   "cell_type": "code",
   "execution_count": null,
   "metadata": {
    "colab": {
     "base_uri": "https://localhost:8080/",
     "height": 143
    },
    "executionInfo": {
     "elapsed": 37,
     "status": "ok",
     "timestamp": 1742264314155,
     "user": {
      "displayName": "reza safarzadeh",
      "userId": "02487800440677019386"
     },
     "user_tz": 360
    },
    "id": "QhKwZbxvFkKA",
    "outputId": "28b00f29-e2c7-4ca9-a1aa-36ee9b102624"
   },
   "outputs": [],
   "source": [
    "od_matrix_geodataframe.reset_index(drop=True, inplace=True)\n",
    "od_matrix_geodataframe.head(3)"
   ]
  },
  {
   "cell_type": "code",
   "execution_count": null,
   "metadata": {
    "executionInfo": {
     "elapsed": 38,
     "status": "ok",
     "timestamp": 1742264318473,
     "user": {
      "displayName": "reza safarzadeh",
      "userId": "02487800440677019386"
     },
     "user_tz": 360
    },
    "id": "X_xqgr0qFuxS"
   },
   "outputs": [],
   "source": [
    "# Define a function to split the linestring coordinates into separate columns\n",
    "def split_coords(line):\n",
    "    coords = line.coords\n",
    "    source_lon, source_lat = coords[0]\n",
    "    target_lon, target_lat = coords[1]\n",
    "    return pd.Series([source_lat, source_lon, target_lat, target_lon])\n",
    "\n",
    "# Apply the split_coords function to the geometry column\n",
    "od_matrix_geodataframe[['source_lat', 'source_lon', 'target_lat', 'target_lon']] = od_matrix_geodataframe['geometry'].apply(split_coords)\n"
   ]
  },
  {
   "cell_type": "code",
   "execution_count": null,
   "metadata": {
    "colab": {
     "base_uri": "https://localhost:8080/",
     "height": 143
    },
    "executionInfo": {
     "elapsed": 26,
     "status": "ok",
     "timestamp": 1742264320042,
     "user": {
      "displayName": "reza safarzadeh",
      "userId": "02487800440677019386"
     },
     "user_tz": 360
    },
    "id": "foErruKqFzOL",
    "outputId": "82606f5a-d041-4fca-cf26-478c164a8539"
   },
   "outputs": [],
   "source": [
    "od_matrix_geodataframe.head(3)"
   ]
  },
  {
   "cell_type": "code",
   "execution_count": null,
   "metadata": {
    "executionInfo": {
     "elapsed": 13,
     "status": "ok",
     "timestamp": 1742264323859,
     "user": {
      "displayName": "reza safarzadeh",
      "userId": "02487800440677019386"
     },
     "user_tz": 360
    },
    "id": "_9TfK2ZhIBzY"
   },
   "outputs": [],
   "source": [
    "od_geodataframe[\"datetime\"] = od_geodataframe[\"datetime\"].astype(str)\n",
    "od_matrix_geodataframe[\"n\"] = od_matrix_geodataframe[\"n\"].astype(str)\n",
    "od_matrix_geodataframe[\"od\"] = od_matrix_geodataframe[\"od\"].astype(str)"
   ]
  },
  {
   "cell_type": "code",
   "execution_count": null,
   "metadata": {
    "colab": {
     "base_uri": "https://localhost:8080/",
     "height": 35
    },
    "executionInfo": {
     "elapsed": 47730,
     "status": "ok",
     "timestamp": 1742277552711,
     "user": {
      "displayName": "reza safarzadeh",
      "userId": "02487800440677019386"
     },
     "user_tz": 360
    },
    "id": "_HyejwvpJ0TH",
    "outputId": "80ecec1e-48ac-4b2a-c256-32b0a94e3c66"
   },
   "outputs": [],
   "source": [
    "\n",
    "\n",
    "# Create KeplerGl instance\n",
    "map = KeplerGl()\n",
    "\n",
    "# add data to Kepler\n",
    "map.add_data(data=od_geodataframe, name=\"OD points\")\n",
    "map.add_data(data=od_matrix_geodataframe, name=\"OD matrix\")\n",
    "map.add_data(data=taxi_data, name=\"Taxi Data\")\n",
    "\n"
   ]
  },
  {
   "cell_type": "code",
   "execution_count": null,
   "metadata": {
    "colab": {
     "base_uri": "https://localhost:8080/",
     "height": 700,
     "output_embedded_package_id": "11rJFNYKOi9wz99suZWmg0rv9iCYfzELx"
    },
    "executionInfo": {
     "elapsed": 13365,
     "status": "ok",
     "timestamp": 1742279102514,
     "user": {
      "displayName": "reza safarzadeh",
      "userId": "02487800440677019386"
     },
     "user_tz": 360
    },
    "id": "CesStixCSFae",
    "outputId": "ed4b7f8b-e05b-4a97-d1c6-ca43c0ee9af7"
   },
   "outputs": [],
   "source": [
    "map.height = 700\n",
    "map.show(center_map=True)"
   ]
  },
  {
   "cell_type": "code",
   "execution_count": null,
   "metadata": {
    "colab": {
     "base_uri": "https://localhost:8080/"
    },
    "executionInfo": {
     "elapsed": 7,
     "status": "ok",
     "timestamp": 1742264367515,
     "user": {
      "displayName": "reza safarzadeh",
      "userId": "02487800440677019386"
     },
     "user_tz": 360
    },
    "id": "QMYnTU9AMaaR",
    "outputId": "d4c2ff38-3146-48ac-e191-de0f95f79e65"
   },
   "outputs": [],
   "source": [
    "map.save_to_html(file_name='map.html')"
   ]
  },
  {
   "cell_type": "markdown",
   "metadata": {
    "id": "PV2RXVucNx1F"
   },
   "source": [
    "Config"
   ]
  },
  {
   "cell_type": "code",
   "execution_count": null,
   "metadata": {
    "executionInfo": {
     "elapsed": 29,
     "status": "ok",
     "timestamp": 1742281225332,
     "user": {
      "displayName": "reza safarzadeh",
      "userId": "02487800440677019386"
     },
     "user_tz": 360
    },
    "id": "iOYHhJev-WTF"
   },
   "outputs": [],
   "source": [
    "config = {'version': 'v1', 'config': {'visState': {'filters': [{'dataId': ['Taxi Data'], 'id': 'zm8wdp8wo', 'name': ['datetime'], 'type': 'timeRange', 'value': [1372702510454.332, 1372704384454.3318], 'plotType': {'interval': '1-hour', 'defaultTimeFormat': 'L  H A', 'type': 'histogram', 'aggregation': 'sum'}, 'animationWindow': 'free', 'yAxis': None, 'view': 'enlarged', 'speed': 0.1, 'enabled': True}], 'layers': [ {\"id\": \"egzhjkq\", \"type\": \"hexagon\", \"config\": { \"dataId\": \"Taxi Data\", \"label\": \"Taxi Hexbins\", \"color\": [137,218,193], \"highlightColor\": [252,242,26,255], \"columns\": { \"lat\": \"latitude\", \"lng\": \"longitude\" }, \"isVisible\": True, \"visConfig\": { \"opacity\": 0.8, \"worldUnitSize\": 0.3, \"resolution\": 8, \"colorRange\": { \"name\": \"Global Warming\", \"type\": \"sequential\", \"category\": \"Uber\", \"colors\": [ \"#4C0035\", \"#880030\", \"#B72F15\", \"#D6610A\", \"#EF9100\", \"#FFC300\" ] }, \"coverage\": 1, \"sizeRange\": [0,500], \"percentile\": [0,100], \"elevationPercentile\": [0,100], \"elevationScale\": 7, \"enableElevationZoomFactor\": True, \"fixedHeight\": False, \"colorAggregation\": \"count\", \"sizeAggregation\": \"average\", \"enable3d\": True }, \"hidden\": False, \"textLabel\": [ { \"field\": None, \"color\": [255,255,255], \"size\": 18, \"offset\": [0,0], \"anchor\": \"start\", \"alignment\": \"center\", \"outlineWidth\": 0, \"outlineColor\": [255,0,0,255], \"background\": False, \"backgroundColor\": [0,0,200,255 ] } ] }, \"visualChannels\": { \"colorField\": None, \"colorScale\": \"quantile\", \"sizeField\": None, \"sizeScale\": \"linear\"}}, {'id': 'qle7gl', 'type': 'point', 'config': {'dataId': 'Taxi Data', 'columnMode': 'points', 'label': 'Taxi GPS Points', 'color': [221, 178, 124], 'highlightColor': [252, 242, 26, 255], 'columns': {'lat': 'latitude', 'lng': 'longitude'}, 'isVisible': False, 'visConfig': {'radius': 10, 'fixedRadius': False, 'opacity': 0.8, 'outline': False, 'thickness': 2, 'strokeColor': None, 'colorRange': {'colors': ['#12939A', '#DDB27C', '#88572C', '#FF991F', '#F15C17', '#223F9A', '#DA70BF', '#125C77', '#4DC19C', '#776E57', '#17B8BE', '#F6D18A', '#B7885E', '#FFCB99', '#F89570', '#829AE3', '#E79FD5', '#1E96BE', '#89DAC1', '#B3AD9E'], 'name': 'Uber Viz Qualitative', 'type': 'qualitative', 'category': 'Uber'}, 'strokeColorRange': {'name': 'Global Warming', 'type': 'sequential', 'category': 'Uber', 'colors': ['#4C0035', '#880030', '#B72F15', '#D6610A', '#EF9100', '#FFC300']}, 'radiusRange': [0, 50], 'filled': True, 'billboard': False, 'allowHover': True, 'showNeighborOnHover': False, 'showHighlightColor': True}, 'hidden': False, 'textLabel': [{'field': None, 'color': [255, 255, 255], 'size': 18, 'offset': [0, 0], 'anchor': 'start', 'alignment': 'center', 'outlineWidth': 0, 'outlineColor': [255, 0, 0, 255], 'background': False, 'backgroundColor': [0, 0, 200, 255]}]}, 'visualChannels': {'colorField': {'name': 'TAXI_ID', 'type': 'integer'}, 'colorScale': 'quantile', 'strokeColorField': None, 'strokeColorScale': 'quantile', 'sizeField': None, 'sizeScale': 'linear'}}, {'id': 'qsbthxi', 'type': 'cluster', 'config': {'dataId': 'OD points', 'label': 'OD points', 'color': [179, 173, 158], 'highlightColor': [252, 242, 26, 255], 'columns': {'lat': 'lat', 'lng': 'lon'}, 'isVisible': False, 'visConfig': {'opacity': 0.88, 'clusterRadius': 55.7, 'colorRange': {'colors': ['#223F9A', '#483C9A', '#633797', '#793192', '#8D298C', '#9E2184', '#AD177A', '#BA0E6F', '#C40A63', '#CC1157', '#D7244D', '#E53A46', '#F04F3D', '#FA6434', '#FF7929', '#FF8E1C', '#FFA308', '#FFB900', '#FFCE00', '#FAE300'], 'name': 'UberPool', 'type': 'diverging', 'category': 'Uber'}, 'radiusRange': ['10', 50], 'colorAggregation': 'average'}, 'hidden': False, 'textLabel': [{'field': None, 'color': [255, 255, 255], 'size': 18, 'offset': [0, 0], 'anchor': 'start', 'alignment': 'center', 'outlineWidth': 0, 'outlineColor': [255, 0, 0, 255], 'background': False, 'backgroundColor': [0, 0, 200, 255]}]}, 'visualChannels': {'colorField': {'name': '0', 'type': 'integer'}, 'colorScale': 'quantize'}}, {'id': 'lq2u2ni', 'type': 'arc', 'config': {'dataId': 'OD matrix', 'columnMode': 'points', 'label': 'OD matrix Arc', 'color': [146, 38, 198], 'highlightColor': [252, 242, 26, 255], 'columns': {'lat0': 'source_lat', 'lng0': 'source_lon', 'lat1': 'target_lat', 'lng1': 'target_lon'}, 'isVisible': False, 'visConfig': {'opacity': 0.76, 'thickness': 2, 'colorRange': {'colors': ['#223F9A', '#483C9A', '#633797', '#793192', '#8D298C', '#9E2184', '#AD177A', '#BA0E6F', '#C40A63', '#CC1157', '#D7244D', '#E53A46', '#F04F3D', '#FA6434', '#FF7929', '#FF8E1C', '#FFA308', '#FFB900', '#FFCE00', '#FAE300'], 'name': 'UberPool', 'type': 'diverging', 'category': 'Uber'}, 'sizeRange': [0.2, 5.5], 'targetColor': None}, 'hidden': False, 'textLabel': [{'field': None, 'color': [255, 255, 255], 'size': 18, 'offset': [0, 0], 'anchor': 'start', 'alignment': 'center', 'outlineWidth': 0, 'outlineColor': [255, 0, 0, 255], 'background': False, 'backgroundColor': [0, 0, 200, 255]}]}, 'visualChannels': {'colorField': {'name': 'n', 'type': 'integer'}, 'colorScale': 'quantize', 'sizeField': {'name': 'n', 'type': 'integer'}, 'sizeScale': 'linear'}}], 'effects': [], 'interactionConfig': {'tooltip': {'fieldsToShow': {'dausla': [{'name': '0', 'format': None}, {'name': 'n', 'format': None}, {'name': 'od', 'format': None}], 'jm4pas': [{'name': '0', 'format': None}, {'name': 'datetime', 'format': None}, {'name': 'TRIP_ID', 'format': None}, {'name': 'TAXI_ID', 'format': None}, {'name': 'type', 'format': None}], 'tohy2r': [{'name': '0', 'format': None}, {'name': 'TRIP_ID', 'format': None}, {'name': 'TAXI_ID', 'format': None}, {'name': 'datetime', 'format': None}]}, 'compareMode': False, 'compareType': 'absolute', 'enabled': True}, 'brush': {'size': 0.5, 'enabled': False}, 'geocoder': {'enabled': False}, 'coordinate': {'enabled': False}}, 'layerBlending': 'normal', 'overlayBlending': 'normal', 'splitMaps': [], 'animationConfig': {'currentTime': None, 'speed': 1}, 'editor': {'features': [], 'visible': True}}, 'mapState': {'bearing': 0, 'dragRotate': False, 'latitude': 41.16292801347798, 'longitude': -8.660418838014959, 'pitch': 0, 'zoom': 11.480589169169521, 'isSplit': False, 'isViewportSynced': True, 'isZoomLocked': False, 'splitMapViewports': []}, 'mapStyle': {'styleType': 'dark-matter', 'topLayerGroups': {}, 'visibleLayerGroups': {'label': True, 'road': True, 'border': False, 'building': True, 'water': True, 'land': True, '3d building': True}, 'threeDBuildingColor': [15.035172933000911, 15.035172933000911, 15.035172933000911], 'backgroundColor': [0, 0, 0], 'mapStyles': {}}, 'uiState': {'mapControls': {'mapLegend': {'active': False}}}}}"
   ]
  },
  {
   "cell_type": "code",
   "execution_count": null,
   "metadata": {
    "colab": {
     "base_uri": "https://localhost:8080/",
     "height": 700,
     "output_embedded_package_id": "11Q4H97-LvOEJw6EJZrB6-RG8Ss4LAe7H"
    },
    "executionInfo": {
     "elapsed": 36547,
     "status": "ok",
     "timestamp": 1742281264703,
     "user": {
      "displayName": "reza safarzadeh",
      "userId": "02487800440677019386"
     },
     "user_tz": 360
    },
    "id": "Hb62GbwQ-FWZ",
    "outputId": "ce254668-8880-4050-a25f-47f700e01c98"
   },
   "outputs": [],
   "source": [
    "# Create KeplerGl instance\n",
    "map2 = KeplerGl()\n",
    "\n",
    "# add data to Kepler\n",
    "map2.add_data(data=od_geodataframe, name=\"OD points\")\n",
    "map2.add_data(data=od_matrix_geodataframe, name=\"OD matrix\")\n",
    "map2.add_data(data=taxi_data, name=\"Taxi Data\")\n",
    "\n",
    "\n",
    "map2.config = config\n",
    "map2.height = 700\n",
    "map2.show(center_map=True)"
   ]
  }
 ],
 "metadata": {
  "colab": {
   "provenance": []
  },
  "kernelspec": {
   "display_name": "base",
   "language": "python",
   "name": "python3"
  },
  "language_info": {
   "codemirror_mode": {
    "name": "ipython",
    "version": 3
   },
   "file_extension": ".py",
   "mimetype": "text/x-python",
   "name": "python",
   "nbconvert_exporter": "python",
   "pygments_lexer": "ipython3",
   "version": "3.12.3"
  }
 },
 "nbformat": 4,
 "nbformat_minor": 0
}
