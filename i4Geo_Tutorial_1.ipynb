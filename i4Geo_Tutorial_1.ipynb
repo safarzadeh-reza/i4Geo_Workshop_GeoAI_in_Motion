{
 "cells": [
  {
   "cell_type": "markdown",
   "metadata": {
    "id": "4pS_BugB9nDZ"
   },
   "source": [
    "# Hands-on Python Excersises:\n",
    "\n",
    "- Tutorial 0 : Getting Started with Movingpandas\n",
    "- ***Tutorial 1 : Trajectory Preprocessing***\n",
    "- Tutorial 2 : Taxi Trajectory Dashboard Visualization\n",
    "\n"
   ]
  },
  {
   "cell_type": "markdown",
   "metadata": {
    "id": "IpCAZK-orZpU"
   },
   "source": [
    "# Tutorial 1 : Trajectory Preprocessing"
   ]
  },
  {
   "cell_type": "markdown",
   "metadata": {
    "id": "eODYD24b9nDa"
   },
   "source": [
    "## Trajectory Preprocessing Recap\n",
    "\n",
    "Trajectory data often contains various challenges like noise, redundancy, or uninformative segments. Preprocessing helps to clean and optimize the data for further analysis or visualization. Below is a brief overview of some key trajectory preprocessing techniques:\n",
    "\n",
    "1. **Trajectory Noise Filtering**\n",
    "- Remove irregularities or noise from raw trajectory data to reveal underlying movement patterns.\n",
    "2. **Stay Point Detection**\n",
    "- Identify locations where a moving object remains stationary or within a small area for a defined period. These \"stay points\" often indicate points of interest like stops or dwell locations.\n",
    "3. **Trajectory Segmentation (Splitting Trajectories)**\n",
    "- Divide long or complex trajectories into smaller, meaningful segments to better analyze different movement behaviors.\n",
    "4. **Trajectory Compression (Generalization)**\n",
    "- Reduce the number of points in a trajectory while preserving the overall shape and important characteristics.\n"
   ]
  },
  {
   "cell_type": "markdown",
   "metadata": {
    "id": "lDcFiMWb91P1"
   },
   "source": [
    "```\n",
    "! pip install movingpandas\n",
    "\n",
    "! pip install cartopy\n",
    "\n",
    "! pip install geoviews\n",
    "\n",
    "! pip install mapclassify\n",
    "\n",
    "! pip install keplergl\n",
    "```\n"
   ]
  },
  {
   "cell_type": "code",
   "execution_count": null,
   "metadata": {
    "executionInfo": {
     "elapsed": 12,
     "status": "ok",
     "timestamp": 1742332039261,
     "user": {
      "displayName": "reza safarzadeh",
      "userId": "02487800440677019386"
     },
     "user_tz": 360
    },
    "id": "8lCkK_ZhrO4B"
   },
   "outputs": [],
   "source": [
    "# ! pip install movingpandas\n",
    "# ! pip install cartopy\n",
    "# ! pip install geoviews\n",
    "# ! pip install mapclassify\n",
    "# ! pip install keplergl"
   ]
  },
  {
   "cell_type": "code",
   "execution_count": null,
   "metadata": {
    "executionInfo": {
     "elapsed": 41,
     "status": "ok",
     "timestamp": 1742332042037,
     "user": {
      "displayName": "reza safarzadeh",
      "userId": "02487800440677019386"
     },
     "user_tz": 360
    },
    "id": "ss5rE6Kx9nDa"
   },
   "outputs": [],
   "source": [
    "import pandas as pd\n",
    "import geopandas as gpd\n",
    "import movingpandas as mpd\n",
    "import shapely as shp\n",
    "import matplotlib.pyplot as plt\n",
    "\n",
    "from geopandas import GeoDataFrame, read_file\n",
    "from shapely.geometry import Point, LineString, Polygon\n",
    "from datetime import datetime, timedelta\n",
    "\n",
    "import folium\n",
    "\n",
    "import warnings\n",
    "\n",
    "warnings.filterwarnings(\"ignore\")\n"
   ]
  },
  {
   "cell_type": "markdown",
   "metadata": {
    "id": "rTJzNZKf9nDb"
   },
   "source": [
    "## Noise Filtering\n"
   ]
  },
  {
   "cell_type": "code",
   "execution_count": null,
   "metadata": {
    "colab": {
     "base_uri": "https://localhost:8080/"
    },
    "executionInfo": {
     "elapsed": 19910,
     "status": "ok",
     "timestamp": 1742332028701,
     "user": {
      "displayName": "reza safarzadeh",
      "userId": "02487800440677019386"
     },
     "user_tz": 360
    },
    "id": "qrSna1iu3oM4",
    "outputId": "d780692d-b0b5-4f52-969c-ac6ad53d06e9"
   },
   "outputs": [],
   "source": [
    "from google.colab import drive\n",
    "drive.mount('/content/drive')"
   ]
  },
  {
   "cell_type": "code",
   "execution_count": null,
   "metadata": {
    "colab": {
     "base_uri": "https://localhost:8080/",
     "height": 206
    },
    "executionInfo": {
     "elapsed": 1451,
     "status": "ok",
     "timestamp": 1742332453581,
     "user": {
      "displayName": "reza safarzadeh",
      "userId": "02487800440677019386"
     },
     "user_tz": 360
    },
    "id": "lmnNPywU9nDb",
    "outputId": "9729b823-a62d-4e28-973a-ae26ab748e96"
   },
   "outputs": [],
   "source": [
    "path = \"/content/drive/MyDrive/i4Geo_Workshop/new_taxi_porto.csv\"\n",
    "taxi_data = pd.read_csv(path)\n",
    "taxi_data = taxi_data.head(5000)\n",
    "taxi_data.head()"
   ]
  },
  {
   "cell_type": "code",
   "execution_count": null,
   "metadata": {
    "colab": {
     "base_uri": "https://localhost:8080/"
    },
    "executionInfo": {
     "elapsed": 474,
     "status": "ok",
     "timestamp": 1742335851462,
     "user": {
      "displayName": "reza safarzadeh",
      "userId": "02487800440677019386"
     },
     "user_tz": 360
    },
    "id": "wMdiFLOY9nDb",
    "outputId": "f10c546b-486e-4937-fc6e-593bf6bd0a92"
   },
   "outputs": [],
   "source": [
    "traj_collection = mpd.TrajectoryCollection(taxi_data, \"TRIP_ID\", t=\"datetime\", y=\"latitude\", x=\"longitude\", crs=4326)\n",
    "print(traj_collection)"
   ]
  },
  {
   "cell_type": "code",
   "execution_count": null,
   "metadata": {
    "executionInfo": {
     "elapsed": 5,
     "status": "ok",
     "timestamp": 1742334190231,
     "user": {
      "displayName": "reza safarzadeh",
      "userId": "02487800440677019386"
     },
     "user_tz": 360
    },
    "id": "IuDpXNdT9nDb"
   },
   "outputs": [],
   "source": [
    "my_traj = traj_collection.trajectories[60]"
   ]
  },
  {
   "cell_type": "code",
   "execution_count": null,
   "metadata": {
    "colab": {
     "base_uri": "https://localhost:8080/",
     "height": 807
    },
    "executionInfo": {
     "elapsed": 106,
     "status": "ok",
     "timestamp": 1742334221494,
     "user": {
      "displayName": "reza safarzadeh",
      "userId": "02487800440677019386"
     },
     "user_tz": 360
    },
    "id": "9gcWNViL9nDb",
    "outputId": "321ec110-1048-4014-e35d-fb6b415a4ff7"
   },
   "outputs": [],
   "source": [
    "m = my_traj.explore(style_kwds={'weight': 5, 'color': 'blue'}, name=\"My trajectory\")\n",
    "my_traj.df.explore(style_kwds={'weight': 10, 'color': 'red'}, m=m, name=\"My trajectory points\")\n",
    "#add a layer control to the map\n",
    "folium.LayerControl().add_to(m)\n",
    "m"
   ]
  },
  {
   "cell_type": "markdown",
   "metadata": {
    "id": "6wWKSHKN9nDb"
   },
   "source": [
    "Let's show the speed information too"
   ]
  },
  {
   "cell_type": "code",
   "execution_count": null,
   "metadata": {
    "colab": {
     "base_uri": "https://localhost:8080/",
     "height": 807
    },
    "executionInfo": {
     "elapsed": 137,
     "status": "ok",
     "timestamp": 1742334246362,
     "user": {
      "displayName": "reza safarzadeh",
      "userId": "02487800440677019386"
     },
     "user_tz": 360
    },
    "id": "Pu_4CZq59nDc",
    "outputId": "75c6fde4-72da-494e-82e2-05f1b9da7615"
   },
   "outputs": [],
   "source": [
    "m = my_traj.explore(column=\"speed\", style_kwds={'weight': 10})\n",
    "my_traj.df.explore(style_kwds={'weight': 10, 'color': 'red'}, m=m)"
   ]
  },
  {
   "cell_type": "markdown",
   "metadata": {
    "id": "OxGOUva09nDc"
   },
   "source": [
    "One easy way to remove noises, is to calculate the speed and flag the abnormal high speeds"
   ]
  },
  {
   "cell_type": "code",
   "execution_count": null,
   "metadata": {
    "colab": {
     "base_uri": "https://localhost:8080/"
    },
    "executionInfo": {
     "elapsed": 40,
     "status": "ok",
     "timestamp": 1742334281674,
     "user": {
      "displayName": "reza safarzadeh",
      "userId": "02487800440677019386"
     },
     "user_tz": 360
    },
    "id": "eTdQqMvF9nDc",
    "outputId": "ad1b8518-7dba-4144-cfc0-0c6878142fde"
   },
   "outputs": [],
   "source": [
    "smooth_traj = mpd.OutlierCleaner(my_traj).clean(v_max=100, units=(\"km\", \"h\"))\n",
    "print(smooth_traj)"
   ]
  },
  {
   "cell_type": "code",
   "execution_count": null,
   "metadata": {
    "colab": {
     "base_uri": "https://localhost:8080/",
     "height": 807
    },
    "executionInfo": {
     "elapsed": 158,
     "status": "ok",
     "timestamp": 1742334286918,
     "user": {
      "displayName": "reza safarzadeh",
      "userId": "02487800440677019386"
     },
     "user_tz": 360
    },
    "id": "rB8hTHhl9nDc",
    "outputId": "fee01596-4d92-4980-85e2-e59e70fe71e6"
   },
   "outputs": [],
   "source": [
    "m = smooth_traj.explore(column=\"speed\", style_kwds={'weight': 10})\n",
    "smooth_traj.df.explore(style_kwds={'weight': 10, 'color': 'red'}, m=m)"
   ]
  },
  {
   "cell_type": "markdown",
   "metadata": {
    "id": "wJJjehCZ9nDc"
   },
   "source": [
    "## Detecting Stops"
   ]
  },
  {
   "cell_type": "code",
   "execution_count": null,
   "metadata": {
    "colab": {
     "base_uri": "https://localhost:8080/",
     "height": 807
    },
    "executionInfo": {
     "elapsed": 201,
     "status": "ok",
     "timestamp": 1742335885367,
     "user": {
      "displayName": "reza safarzadeh",
      "userId": "02487800440677019386"
     },
     "user_tz": 360
    },
    "id": "-9ATHkOF9nDc",
    "outputId": "4219808a-5b6d-40bc-8a6b-c479029f205c"
   },
   "outputs": [],
   "source": [
    "my_traj = traj_collection.trajectories[23]\n",
    "m = my_traj.explore(style_kwds={'weight': 5, 'color': 'blue'}, name=\"My trajectory\")\n",
    "my_traj.df.explore(style_kwds={'weight': 10, 'color': 'red'}, m=m, name=\"My trajectory points\")\n",
    "#add a layer control to the map\n",
    "folium.LayerControl().add_to(m)\n",
    "m"
   ]
  },
  {
   "cell_type": "code",
   "execution_count": null,
   "metadata": {
    "executionInfo": {
     "elapsed": 16,
     "status": "ok",
     "timestamp": 1742335906275,
     "user": {
      "displayName": "reza safarzadeh",
      "userId": "02487800440677019386"
     },
     "user_tz": 360
    },
    "id": "VjgqvUns9nDc"
   },
   "outputs": [],
   "source": [
    "detector = mpd.TrajectoryStopDetector(my_traj)"
   ]
  },
  {
   "cell_type": "code",
   "execution_count": null,
   "metadata": {
    "executionInfo": {
     "elapsed": 33,
     "status": "ok",
     "timestamp": 1742335907150,
     "user": {
      "displayName": "reza safarzadeh",
      "userId": "02487800440677019386"
     },
     "user_tz": 360
    },
    "id": "5hs5gsoS9nDd"
   },
   "outputs": [],
   "source": [
    "stop_time_ranges = detector.get_stop_time_ranges(\n",
    "    min_duration=timedelta(seconds=60), max_diameter=100\n",
    ")"
   ]
  },
  {
   "cell_type": "code",
   "execution_count": null,
   "metadata": {
    "colab": {
     "base_uri": "https://localhost:8080/"
    },
    "executionInfo": {
     "elapsed": 9,
     "status": "ok",
     "timestamp": 1742335908102,
     "user": {
      "displayName": "reza safarzadeh",
      "userId": "02487800440677019386"
     },
     "user_tz": 360
    },
    "id": "kDY3x5bX9nDd",
    "outputId": "2d60433f-6e82-4163-f963-57dfe8f98f09"
   },
   "outputs": [],
   "source": [
    "for x in stop_time_ranges:\n",
    "    print(x)"
   ]
  },
  {
   "cell_type": "code",
   "execution_count": null,
   "metadata": {
    "executionInfo": {
     "elapsed": 50,
     "status": "ok",
     "timestamp": 1742335909779,
     "user": {
      "displayName": "reza safarzadeh",
      "userId": "02487800440677019386"
     },
     "user_tz": 360
    },
    "id": "Am5DDZFC9nDd"
   },
   "outputs": [],
   "source": [
    "stop_points = detector.get_stop_points(\n",
    "    min_duration=timedelta(seconds=60), max_diameter=100\n",
    ")"
   ]
  },
  {
   "cell_type": "code",
   "execution_count": null,
   "metadata": {
    "colab": {
     "base_uri": "https://localhost:8080/",
     "height": 143
    },
    "executionInfo": {
     "elapsed": 11,
     "status": "ok",
     "timestamp": 1742335910611,
     "user": {
      "displayName": "reza safarzadeh",
      "userId": "02487800440677019386"
     },
     "user_tz": 360
    },
    "id": "DNvJzbbK9nDd",
    "outputId": "5212af61-9a09-45a5-f170-987178fb1f45"
   },
   "outputs": [],
   "source": [
    "stop_points"
   ]
  },
  {
   "cell_type": "markdown",
   "metadata": {
    "id": "BVqIsl5U9nDd"
   },
   "source": [
    "Let's show it on the map"
   ]
  },
  {
   "cell_type": "code",
   "execution_count": null,
   "metadata": {
    "colab": {
     "base_uri": "https://localhost:8080/",
     "height": 807
    },
    "executionInfo": {
     "elapsed": 107,
     "status": "ok",
     "timestamp": 1742335922085,
     "user": {
      "displayName": "reza safarzadeh",
      "userId": "02487800440677019386"
     },
     "user_tz": 360
    },
    "id": "lA4BmKkh9nDd",
    "outputId": "e5b29211-1f60-49ff-f472-e32b2599f1da"
   },
   "outputs": [],
   "source": [
    "# Create a GeoDataFrame from the stop points\n",
    "stop_points_gdf = gpd.GeoDataFrame(stop_points, geometry=\"geometry\", crs=\"EPSG:4326\")\n",
    "\n",
    "m = my_traj.explore(\n",
    "    color=\"blue\",\n",
    "    style_kwds={\"weight\": 4},\n",
    "    name=\"Trajectory\"\n",
    ")\n",
    "\n",
    "my_traj.df.explore(color=\"red\", style_kwds={'weight': 5}, m=m, name=\"Trajectory points\")\n",
    "\n",
    "stop_points_gdf.explore(\n",
    "    m=m,\n",
    "    color=\"red\",\n",
    "    style_kwds={\n",
    "        \"style_function\": lambda x: {\"radius\": x[\"properties\"][\"duration_s\"]/4}\n",
    "    },\n",
    "    name=\"Stop points\",\n",
    ")\n",
    "\n",
    "folium.TileLayer(\"OpenStreetMap\").add_to(m)\n",
    "folium.LayerControl().add_to(m)\n",
    "\n",
    "m"
   ]
  },
  {
   "cell_type": "markdown",
   "metadata": {
    "id": "UzcPtddc9nDd"
   },
   "source": [
    "Stop Detection for TrajectoryCollections"
   ]
  },
  {
   "cell_type": "code",
   "execution_count": null,
   "metadata": {
    "colab": {
     "base_uri": "https://localhost:8080/"
    },
    "executionInfo": {
     "elapsed": 1788,
     "status": "ok",
     "timestamp": 1742334605644,
     "user": {
      "displayName": "reza safarzadeh",
      "userId": "02487800440677019386"
     },
     "user_tz": 360
    },
    "id": "mhhvm8cj9nDd",
    "outputId": "30633e0f-22e4-4a47-eab3-191e29e0a683"
   },
   "outputs": [],
   "source": [
    "detector = mpd.TrajectoryStopDetector(traj_collection)\n",
    "stop_points = detector.get_stop_points(\n",
    "    min_duration=timedelta(seconds=120), max_diameter=100\n",
    ")\n",
    "len(stop_points)"
   ]
  },
  {
   "cell_type": "code",
   "execution_count": null,
   "metadata": {
    "colab": {
     "base_uri": "https://localhost:8080/",
     "height": 589
    },
    "executionInfo": {
     "elapsed": 5397,
     "status": "ok",
     "timestamp": 1742334616556,
     "user": {
      "displayName": "reza safarzadeh",
      "userId": "02487800440677019386"
     },
     "user_tz": 360
    },
    "id": "INRvjpTp9nDd",
    "outputId": "d4639142-c6a4-49e3-8341-9449512fcf7f"
   },
   "outputs": [],
   "source": [
    "ax = traj_collection.plot(figsize=(7, 7))\n",
    "stop_points.plot(ax=ax, color=\"red\")"
   ]
  },
  {
   "cell_type": "markdown",
   "metadata": {
    "id": "1D2tNNXJ9nDd"
   },
   "source": [
    "## Trajectory Segmentation"
   ]
  },
  {
   "cell_type": "code",
   "execution_count": null,
   "metadata": {
    "colab": {
     "base_uri": "https://localhost:8080/"
    },
    "executionInfo": {
     "elapsed": 471,
     "status": "ok",
     "timestamp": 1742334789927,
     "user": {
      "displayName": "reza safarzadeh",
      "userId": "02487800440677019386"
     },
     "user_tz": 360
    },
    "id": "pI0SF_M79nDd",
    "outputId": "232367c6-42f5-4afe-90c5-f89cb9714bbe"
   },
   "outputs": [],
   "source": [
    "traj_collection = mpd.TrajectoryCollection(taxi_data, \"TAXI_ID\", t=\"datetime\", y=\"latitude\", x=\"longitude\", crs=4326)\n",
    "print(traj_collection)"
   ]
  },
  {
   "cell_type": "code",
   "execution_count": null,
   "metadata": {
    "colab": {
     "base_uri": "https://localhost:8080/",
     "height": 807
    },
    "executionInfo": {
     "elapsed": 186,
     "status": "ok",
     "timestamp": 1742335498519,
     "user": {
      "displayName": "reza safarzadeh",
      "userId": "02487800440677019386"
     },
     "user_tz": 360
    },
    "id": "Wf4cWa9v9nDd",
    "outputId": "cd74e3ef-6037-4b1b-a998-04b9119e65b1"
   },
   "outputs": [],
   "source": [
    "my_traj = traj_collection.trajectories[13]\n",
    "m = my_traj.explore(style_kwds={'weight': 5}, name=\"My trajectory\", color=\"blue\")\n",
    "my_traj.df.explore(m=m, style_kwds={'weight': 5, 'color': 'red'}, name=\"My trajectory points\")\n",
    "folium.LayerControl().add_to(m)\n",
    "m"
   ]
  },
  {
   "cell_type": "code",
   "execution_count": null,
   "metadata": {
    "executionInfo": {
     "elapsed": 57,
     "status": "ok",
     "timestamp": 1742335544779,
     "user": {
      "displayName": "reza safarzadeh",
      "userId": "02487800440677019386"
     },
     "user_tz": 360
    },
    "id": "P81SwyoxRIaD"
   },
   "outputs": [],
   "source": [
    "my_traj_smoothed = mpd.OutlierCleaner(my_traj).clean(v_max=100, units=(\"km\", \"h\"))"
   ]
  },
  {
   "cell_type": "code",
   "execution_count": null,
   "metadata": {
    "colab": {
     "base_uri": "https://localhost:8080/",
     "height": 807
    },
    "executionInfo": {
     "elapsed": 133,
     "status": "ok",
     "timestamp": 1742335546015,
     "user": {
      "displayName": "reza safarzadeh",
      "userId": "02487800440677019386"
     },
     "user_tz": 360
    },
    "id": "pcqkeHP9RPbJ",
    "outputId": "eec63c09-33f5-405c-d8d3-cb68edf3e3f2"
   },
   "outputs": [],
   "source": [
    "m = my_traj_smoothed.explore(style_kwds={'weight': 5}, name=\"My trajectory\", color=\"blue\")\n",
    "my_traj_smoothed.df.explore(m=m, style_kwds={'weight': 5, 'color': 'red'}, name=\"My trajectory points\")\n",
    "folium.LayerControl().add_to(m)\n",
    "m"
   ]
  },
  {
   "cell_type": "markdown",
   "metadata": {
    "id": "NS0SLKGP9nDd"
   },
   "source": [
    "### ObservationGapSplitter\n",
    "\n",
    "Split the trajectory where then are no observations for at least two minutes:\n",
    "\n"
   ]
  },
  {
   "cell_type": "code",
   "execution_count": null,
   "metadata": {
    "colab": {
     "base_uri": "https://localhost:8080/"
    },
    "executionInfo": {
     "elapsed": 40,
     "status": "ok",
     "timestamp": 1742335557025,
     "user": {
      "displayName": "reza safarzadeh",
      "userId": "02487800440677019386"
     },
     "user_tz": 360
    },
    "id": "Z-k3wn969nDd",
    "outputId": "97d65723-078a-4413-c2c2-00c13bb34691"
   },
   "outputs": [],
   "source": [
    "split = mpd.ObservationGapSplitter(my_traj_smoothed).split(gap=timedelta(minutes=2))\n",
    "split"
   ]
  },
  {
   "cell_type": "code",
   "execution_count": null,
   "metadata": {
    "colab": {
     "base_uri": "https://localhost:8080/",
     "height": 807
    },
    "executionInfo": {
     "elapsed": 123,
     "status": "ok",
     "timestamp": 1742335747114,
     "user": {
      "displayName": "reza safarzadeh",
      "userId": "02487800440677019386"
     },
     "user_tz": 360
    },
    "id": "5uBFBnkR9nDd",
    "outputId": "aad99604-39a4-4879-82f7-5188c24ce211"
   },
   "outputs": [],
   "source": [
    "m = split.explore(style_kwds={'weight': 5}, column=\"TAXI_ID\",  name=\"My trajectory\", cmap=\"bwr\")\n",
    "my_traj_smoothed.df.explore(m=m, style_kwds={'weight': 5, 'color': 'red'}, name=\"My trajectory points\")\n",
    "folium.LayerControl().add_to(m)\n",
    "m"
   ]
  }
 ],
 "metadata": {
  "colab": {
   "provenance": []
  },
  "kernelspec": {
   "display_name": "base",
   "language": "python",
   "name": "python3"
  },
  "language_info": {
   "codemirror_mode": {
    "name": "ipython",
    "version": 3
   },
   "file_extension": ".py",
   "mimetype": "text/x-python",
   "name": "python",
   "nbconvert_exporter": "python",
   "pygments_lexer": "ipython3",
   "version": "3.12.3"
  }
 },
 "nbformat": 4,
 "nbformat_minor": 0
}
