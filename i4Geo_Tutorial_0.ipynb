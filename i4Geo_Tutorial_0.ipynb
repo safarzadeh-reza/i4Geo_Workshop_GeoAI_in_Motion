{
 "cells": [
  {
   "cell_type": "markdown",
   "metadata": {
    "id": "tp9FrHuA9rMO"
   },
   "source": [
    "# Hands-on Python Excersises:\n",
    "\n",
    "- ***Tutorial 0 : Getting Started with Movingpandas***\n",
    "- Tutorial 1 : Trajectory Preprocessing\n",
    "- Tutorial 2 : Taxi Trajectory Dashboard Visualization\n",
    "\n"
   ]
  },
  {
   "cell_type": "markdown",
   "metadata": {
    "id": "Z1aADr2Y9rMP"
   },
   "source": [
    "# Tutorial 0 : Getting Started with MovingPandas"
   ]
  },
  {
   "cell_type": "markdown",
   "metadata": {
    "id": "iL74wd_R9rMP"
   },
   "source": [
    "\n",
    "MovingPandas provides a trajectory datatype based on GeoPandas. The project home is at https://github.com/movingpandas/movingpandas\n",
    "\n",
    "The documentation is available at https://movingpandas.readthedocs.io/\n",
    "\n",
    "```\n",
    "! pip install movingpandas\n",
    "\n",
    "! pip install cartopy\n",
    "\n",
    "! pip install geoviews\n",
    "\n",
    "! pip install mapclassify\n",
    "\n",
    "! pip install keplergl\n",
    "```\n"
   ]
  },
  {
   "cell_type": "code",
   "execution_count": null,
   "metadata": {
    "id": "t44wWBnerPZs"
   },
   "outputs": [],
   "source": [
    "# ! pip install movingpandas\n",
    "# ! pip install cartopy\n",
    "# ! pip install geoviews\n",
    "# ! pip install mapclassify\n",
    "# ! pip install keplergl"
   ]
  },
  {
   "cell_type": "code",
   "execution_count": null,
   "metadata": {
    "id": "qB2awsDV9rMQ"
   },
   "outputs": [],
   "source": [
    "import pandas as pd\n",
    "import geopandas as gpd\n",
    "import movingpandas as mpd\n",
    "import shapely as shp\n",
    "import matplotlib.pyplot as plt\n",
    "\n",
    "import folium\n",
    "\n",
    "from geopandas import GeoDataFrame, read_file\n",
    "from shapely.geometry import Point, LineString, Polygon\n",
    "from datetime import datetime, timedelta\n",
    "\n",
    "\n",
    "import warnings\n",
    "\n",
    "warnings.filterwarnings(\"ignore\")\n"
   ]
  },
  {
   "cell_type": "code",
   "execution_count": null,
   "metadata": {
    "colab": {
     "base_uri": "https://localhost:8080/"
    },
    "executionInfo": {
     "elapsed": 11112,
     "status": "ok",
     "timestamp": 1742325671874,
     "user": {
      "displayName": "reza safarzadeh",
      "userId": "02487800440677019386"
     },
     "user_tz": 360
    },
    "id": "yaQdTvpK9rMQ",
    "outputId": "98c4dc6f-a6e2-4714-cb0a-a2926592ccb5"
   },
   "outputs": [],
   "source": [
    "mpd.show_versions()"
   ]
  },
  {
   "cell_type": "markdown",
   "metadata": {
    "id": "yWBcfNcH9rMQ"
   },
   "source": [
    "## Creating a trajectory from scratch\n",
    "\n",
    "\n",
    "Trajectory objects consist of trajectory ID and a GeoPandas GeoDataFrame with a DateTimeindex. At minimum we need a DataFrame with Geometry and Time information.\n",
    "\n",
    "Let's create a small toy trajectory to see how this works:"
   ]
  },
  {
   "cell_type": "code",
   "execution_count": null,
   "metadata": {
    "colab": {
     "base_uri": "https://localhost:8080/",
     "height": 175
    },
    "executionInfo": {
     "elapsed": 13,
     "status": "ok",
     "timestamp": 1742326479810,
     "user": {
      "displayName": "reza safarzadeh",
      "userId": "02487800440677019386"
     },
     "user_tz": 360
    },
    "id": "Ak_KhE5l9rMQ",
    "outputId": "bb713995-6fe7-4e78-816d-be52bdb13732"
   },
   "outputs": [],
   "source": [
    "\n",
    "# Lets create a dataframe with 4 points, each with a timestamp\n",
    "df = pd.DataFrame(\n",
    "    [\n",
    "        {\"time\": datetime(2025, 1, 1, 12, 0, 0), \"x\": 0, \"y\": 0},\n",
    "        {\"time\": datetime(2025, 1, 1, 12, 6, 0), \"x\": 48, \"y\": 0},\n",
    "        {\"time\": datetime(2025, 1, 1, 12, 10, 0), \"x\": 48, \"y\": 48},\n",
    "        {\"time\": datetime(2025, 1, 1, 12, 15, 0), \"x\": 100, \"y\": 100},\n",
    "    ]\n",
    ")\n",
    "\n",
    "df"
   ]
  },
  {
   "cell_type": "code",
   "execution_count": null,
   "metadata": {
    "colab": {
     "base_uri": "https://localhost:8080/"
    },
    "executionInfo": {
     "elapsed": 11,
     "status": "ok",
     "timestamp": 1742326821677,
     "user": {
      "displayName": "reza safarzadeh",
      "userId": "02487800440677019386"
     },
     "user_tz": 360
    },
    "id": "0mKJQn0Yupp_",
    "outputId": "7e8449d6-ea2f-4353-e5a1-fcd4801f1f9f"
   },
   "outputs": [],
   "source": [
    "# or we can directly create trajectory by defining the x and y columns\n",
    "toy_traj = mpd.Trajectory(df, traj_id=1, x='x', y='y', t='time', crs=31256)\n",
    "print(toy_traj)"
   ]
  },
  {
   "cell_type": "code",
   "execution_count": null,
   "metadata": {
    "colab": {
     "base_uri": "https://localhost:8080/",
     "height": 206
    },
    "executionInfo": {
     "elapsed": 31,
     "status": "ok",
     "timestamp": 1742326823476,
     "user": {
      "displayName": "reza safarzadeh",
      "userId": "02487800440677019386"
     },
     "user_tz": 360
    },
    "id": "MCERPzFD9rMR",
    "outputId": "b4c769ba-81aa-450f-9b6e-91862a47da6d"
   },
   "outputs": [],
   "source": [
    "toy_traj.df"
   ]
  },
  {
   "cell_type": "markdown",
   "metadata": {
    "id": "Mu-S5R5p9rMR"
   },
   "source": [
    "## Processing trajectories\n",
    "\n",
    "We can **compute the distance, speed, and acceleration** of movement along the trajectory (between consecutive points). The default distance units are **meters** (or **CRS units**, if the CRS units are not known or specified), and the default time units are **seconds**:"
   ]
  },
  {
   "cell_type": "code",
   "execution_count": null,
   "metadata": {
    "colab": {
     "base_uri": "https://localhost:8080/",
     "height": 206
    },
    "executionInfo": {
     "elapsed": 16,
     "status": "ok",
     "timestamp": 1742326825395,
     "user": {
      "displayName": "reza safarzadeh",
      "userId": "02487800440677019386"
     },
     "user_tz": 360
    },
    "id": "VtPRFSP49rMR",
    "outputId": "686fc97c-3925-402a-d362-3690561bdf42"
   },
   "outputs": [],
   "source": [
    "# add distance to the trajectory\n",
    "toy_traj.add_distance(overwrite=True).df"
   ]
  },
  {
   "cell_type": "code",
   "execution_count": null,
   "metadata": {
    "colab": {
     "base_uri": "https://localhost:8080/",
     "height": 206
    },
    "executionInfo": {
     "elapsed": 54,
     "status": "ok",
     "timestamp": 1742326828092,
     "user": {
      "displayName": "reza safarzadeh",
      "userId": "02487800440677019386"
     },
     "user_tz": 360
    },
    "id": "th1-g536wLya",
    "outputId": "e85056e8-a3f4-49a6-b11b-37d70f606181"
   },
   "outputs": [],
   "source": [
    "toy_traj.add_timedelta(overwrite=True).df"
   ]
  },
  {
   "cell_type": "code",
   "execution_count": null,
   "metadata": {
    "colab": {
     "base_uri": "https://localhost:8080/",
     "height": 206
    },
    "executionInfo": {
     "elapsed": 37,
     "status": "ok",
     "timestamp": 1742326831054,
     "user": {
      "displayName": "reza safarzadeh",
      "userId": "02487800440677019386"
     },
     "user_tz": 360
    },
    "id": "AC0CMR8e9rMR",
    "outputId": "dd33f74c-7567-44be-8253-04d99bb45507"
   },
   "outputs": [],
   "source": [
    "# add speed to the trajectory\n",
    "toy_traj.add_speed(units=(\"km\", \"h\"), overwrite=True).df"
   ]
  },
  {
   "cell_type": "code",
   "execution_count": null,
   "metadata": {
    "colab": {
     "base_uri": "https://localhost:8080/",
     "height": 206
    },
    "executionInfo": {
     "elapsed": 49,
     "status": "ok",
     "timestamp": 1742326835175,
     "user": {
      "displayName": "reza safarzadeh",
      "userId": "02487800440677019386"
     },
     "user_tz": 360
    },
    "id": "-qZNMI8C9rMR",
    "outputId": "67f1f684-a540-4fe7-e2d4-70b4972e916c"
   },
   "outputs": [],
   "source": [
    "# add acceleration to the trajectory\n",
    "toy_traj.add_acceleration(overwrite=True, units=(\"km\", \"h\", \"s\")).df"
   ]
  },
  {
   "cell_type": "markdown",
   "metadata": {
    "id": "Xb2SCrcN9rMR"
   },
   "source": [
    "If you want to use different units, you can specify them. Allowed units include metric units from mm to km, imperial units from inch to mile, nautical miles, and non-standard units which are used as CRS distance units e.g. US Survey units."
   ]
  },
  {
   "cell_type": "code",
   "execution_count": null,
   "metadata": {
    "colab": {
     "base_uri": "https://localhost:8080/",
     "height": 362
    },
    "executionInfo": {
     "elapsed": 45,
     "status": "ok",
     "timestamp": 1742326838056,
     "user": {
      "displayName": "reza safarzadeh",
      "userId": "02487800440677019386"
     },
     "user_tz": 360
    },
    "id": "SIGMT1P59rMR",
    "outputId": "8647087f-99aa-4ac5-a5e4-b90f4e2650f7"
   },
   "outputs": [],
   "source": [
    "toy_traj.add_distance(overwrite=True, name=\"distance (km)\", units=\"km\")\n",
    "toy_traj.add_distance(overwrite=True, name=\"distance (yards)\", units=\"yd\")\n",
    "toy_traj.add_speed(overwrite=True, name=\"speed (ft/min)\", units=(\"ft\", \"min\"))\n",
    "toy_traj.add_speed(overwrite=True, name=\"speed (knots)\", units=(\"nm\", \"h\"))\n",
    "toy_traj.add_acceleration(\n",
    "    overwrite=True, name=\"acceleration (mph/s)\", units=(\"mi\", \"h\", \"s\")\n",
    ")\n",
    "toy_traj.df"
   ]
  },
  {
   "cell_type": "markdown",
   "metadata": {
    "id": "b5NOl2xU9rMS"
   },
   "source": [
    "## Visualizing trajectories\n",
    "\n",
    "To **visualize the trajectory**, we can turn it into a linestring.\n",
    "\n",
    "(The notebook environment automatically plots Shapely geometry objects like the LineString returned by to_linestring().)"
   ]
  },
  {
   "cell_type": "code",
   "execution_count": null,
   "metadata": {
    "colab": {
     "base_uri": "https://localhost:8080/",
     "height": 129
    },
    "executionInfo": {
     "elapsed": 44,
     "status": "ok",
     "timestamp": 1742326863579,
     "user": {
      "displayName": "reza safarzadeh",
      "userId": "02487800440677019386"
     },
     "user_tz": 360
    },
    "id": "zhoraDTe9rMS",
    "outputId": "c70c0ec1-319c-40a5-b510-8120cf473280"
   },
   "outputs": [],
   "source": [
    "toy_traj.to_linestring()"
   ]
  },
  {
   "cell_type": "markdown",
   "metadata": {
    "id": "aTIVYA4r9rMS"
   },
   "source": [
    "We can also visualize the speed values:"
   ]
  },
  {
   "cell_type": "code",
   "execution_count": null,
   "metadata": {
    "colab": {
     "base_uri": "https://localhost:8080/",
     "height": 448
    },
    "executionInfo": {
     "elapsed": 501,
     "status": "ok",
     "timestamp": 1742326867451,
     "user": {
      "displayName": "reza safarzadeh",
      "userId": "02487800440677019386"
     },
     "user_tz": 360
    },
    "id": "Ee2Ebuln9rMS",
    "outputId": "1f2ce38d-187d-40dc-b9cf-2be579960de8"
   },
   "outputs": [],
   "source": [
    "toy_traj.plot(column=\"speed\", linewidth=5, capstyle=\"round\", legend=True)"
   ]
  },
  {
   "cell_type": "markdown",
   "metadata": {
    "id": "KNwQt8B99rMS"
   },
   "source": [
    "In contrast to the earlier example where we visualized the whole trajectory as one linestring, the trajectory plot() function draws each line segment individually and thus each can have a different color."
   ]
  },
  {
   "cell_type": "code",
   "execution_count": null,
   "metadata": {
    "colab": {
     "base_uri": "https://localhost:8080/",
     "height": 673
    },
    "executionInfo": {
     "elapsed": 204,
     "status": "ok",
     "timestamp": 1742326881142,
     "user": {
      "displayName": "reza safarzadeh",
      "userId": "02487800440677019386"
     },
     "user_tz": 360
    },
    "id": "CMjOIADU9rMS",
    "outputId": "772b79d9-38a8-4593-fa86-52efd9e34eb2"
   },
   "outputs": [],
   "source": [
    "\n",
    "toy_traj.explore(column=\"speed\", legend=True)"
   ]
  },
  {
   "cell_type": "markdown",
   "metadata": {
    "id": "9yI-6z8c9rMS"
   },
   "source": [
    "## Analyzing trajectories"
   ]
  },
  {
   "cell_type": "markdown",
   "metadata": {
    "id": "jiI8e9K59rMS"
   },
   "source": [
    "### Extracting a moving object's position at a certain time\n",
    "\n",
    "For example, let's have a look at the get_position_at() function:"
   ]
  },
  {
   "cell_type": "code",
   "execution_count": null,
   "metadata": {
    "colab": {
     "base_uri": "https://localhost:8080/",
     "height": 121
    },
    "executionInfo": {
     "elapsed": 52,
     "status": "ok",
     "timestamp": 1742326992132,
     "user": {
      "displayName": "reza safarzadeh",
      "userId": "02487800440677019386"
     },
     "user_tz": 360
    },
    "id": "_hEVfCy59rMS",
    "outputId": "cd752ae6-ec36-401d-f407-05c956d814c2"
   },
   "outputs": [],
   "source": [
    "toy_traj.get_position_at(datetime(2025, 1, 1, 12, 6, 0), method=\"nearest\")"
   ]
  },
  {
   "cell_type": "markdown",
   "metadata": {
    "id": "Edi9_mUJ9rMS"
   },
   "source": [
    "To see its coordinates, we can look at the print output:"
   ]
  },
  {
   "cell_type": "code",
   "execution_count": null,
   "metadata": {
    "colab": {
     "base_uri": "https://localhost:8080/"
    },
    "executionInfo": {
     "elapsed": 11,
     "status": "ok",
     "timestamp": 1742326996796,
     "user": {
      "displayName": "reza safarzadeh",
      "userId": "02487800440677019386"
     },
     "user_tz": 360
    },
    "id": "7bBqcIZm9rMS",
    "outputId": "ea8616e5-3b89-4fad-90e4-3bf8e86f88a9"
   },
   "outputs": [],
   "source": [
    "print(toy_traj.get_position_at(datetime(2025, 1, 1, 12, 6, 0), method=\"nearest\"))"
   ]
  },
  {
   "cell_type": "markdown",
   "metadata": {
    "id": "vrcmltZ09rMS"
   },
   "source": [
    "If the timestamp falls outside the time range between trajectory start and end time, we get an error:"
   ]
  },
  {
   "cell_type": "code",
   "execution_count": null,
   "metadata": {
    "colab": {
     "base_uri": "https://localhost:8080/",
     "height": 269
    },
    "executionInfo": {
     "elapsed": 36,
     "status": "error",
     "timestamp": 1742327002302,
     "user": {
      "displayName": "reza safarzadeh",
      "userId": "02487800440677019386"
     },
     "user_tz": 360
    },
    "id": "_u_9VHlZ9rMS",
    "outputId": "741601a3-1662-41ce-861a-7ceec7df9dc7"
   },
   "outputs": [],
   "source": [
    "print(toy_traj.get_position_at(datetime(2024, 1, 1, 12, 6, 0), method=\"nearest\"))"
   ]
  },
  {
   "cell_type": "markdown",
   "metadata": {
    "id": "QoqaqyJs9rMT"
   },
   "source": [
    "## Beyond toy trajectories: Loading trajectories from CSV\n",
    "\n"
   ]
  },
  {
   "cell_type": "markdown",
   "metadata": {
    "id": "jidFjUbT9rMT"
   },
   "source": [
    "We are going to work with Taxi Trajectory data: A dataset describing a complete year (from 01/07/2013 to 30/06/2014) of the trajectories for all the 442 taxis running in the city of Porto, in Portugal"
   ]
  },
  {
   "cell_type": "code",
   "execution_count": null,
   "metadata": {
    "colab": {
     "base_uri": "https://localhost:8080/",
     "height": 424
    },
    "executionInfo": {
     "elapsed": 2828,
     "status": "ok",
     "timestamp": 1742336234746,
     "user": {
      "displayName": "reza safarzadeh",
      "userId": "02487800440677019386"
     },
     "user_tz": 360
    },
    "id": "s2RKgTBV9rMT",
    "outputId": "da25a897-a1b9-40ce-f7ca-41f102941428"
   },
   "outputs": [],
   "source": [
    "path = \"/content/drive/MyDrive/i4Geo_Workshop/new_taxi_porto.csv\"\n",
    "taxi_data = pd.read_csv(path)\n",
    "taxi_data"
   ]
  },
  {
   "cell_type": "code",
   "execution_count": null,
   "metadata": {
    "colab": {
     "base_uri": "https://localhost:8080/",
     "height": 424
    },
    "executionInfo": {
     "elapsed": 99,
     "status": "ok",
     "timestamp": 1742336242655,
     "user": {
      "displayName": "reza safarzadeh",
      "userId": "02487800440677019386"
     },
     "user_tz": 360
    },
    "id": "JuN9_a4A9rMT",
    "outputId": "545d5a26-40c9-4b31-8796-f781dd8d4b3e"
   },
   "outputs": [],
   "source": [
    "# filter the data to only include the first 1000 rows\n",
    "\n",
    "taxi_data = taxi_data.head(5000)\n",
    "\n",
    "taxi_data"
   ]
  },
  {
   "cell_type": "markdown",
   "metadata": {
    "id": "ohGbnBpA9rMT"
   },
   "source": [
    "After reading the trajectory point data from file, we want to construct the trajectories.\n",
    "\n",
    "### Creating trajectories with TrajectoryCollection\n",
    "\n",
    "TrajectoryCollection is a convenience class that takes care of creating trajectories from a GeoDataFrame:"
   ]
  },
  {
   "cell_type": "code",
   "execution_count": null,
   "metadata": {
    "colab": {
     "base_uri": "https://localhost:8080/"
    },
    "executionInfo": {
     "elapsed": 563,
     "status": "ok",
     "timestamp": 1742336245932,
     "user": {
      "displayName": "reza safarzadeh",
      "userId": "02487800440677019386"
     },
     "user_tz": 360
    },
    "id": "3tYDUYst9rMT",
    "outputId": "c1deed87-9069-4913-e407-20ab07323f33"
   },
   "outputs": [],
   "source": [
    "\n",
    "traj_collection = mpd.TrajectoryCollection(taxi_data, \"TRIP_ID\", t=\"datetime\", y=\"latitude\", x=\"longitude\", crs=4326)\n",
    "print(traj_collection)"
   ]
  },
  {
   "cell_type": "code",
   "execution_count": null,
   "metadata": {
    "colab": {
     "base_uri": "https://localhost:8080/",
     "height": 478
    },
    "executionInfo": {
     "elapsed": 1935,
     "status": "ok",
     "timestamp": 1742336248890,
     "user": {
      "displayName": "reza safarzadeh",
      "userId": "02487800440677019386"
     },
     "user_tz": 360
    },
    "id": "ILHkcK8Z9rMT",
    "outputId": "d5ce69d0-c2e2-485a-a00d-6f03f31029b9"
   },
   "outputs": [],
   "source": [
    "traj_collection.plot(column=\"TRIP_ID\", legend=True, figsize=(9, 5))"
   ]
  },
  {
   "cell_type": "code",
   "execution_count": null,
   "metadata": {
    "colab": {
     "base_uri": "https://localhost:8080/",
     "height": 673,
     "output_embedded_package_id": "1JHhkLu6lmE5v3mwuHZDcnY3mjz-x9mNH"
    },
    "executionInfo": {
     "elapsed": 2693,
     "status": "ok",
     "timestamp": 1742327138367,
     "user": {
      "displayName": "reza safarzadeh",
      "userId": "02487800440677019386"
     },
     "user_tz": 360
    },
    "id": "n2DEJv1_9rMT",
    "outputId": "17eb1f4b-9e5c-485e-f215-9b192f86b885"
   },
   "outputs": [],
   "source": [
    "traj_collection.explore(column=\"TRIP_ID\", legend=True, style_kwds={'weight': 5})"
   ]
  },
  {
   "cell_type": "code",
   "execution_count": null,
   "metadata": {
    "colab": {
     "base_uri": "https://localhost:8080/"
    },
    "executionInfo": {
     "elapsed": 679,
     "status": "ok",
     "timestamp": 1742336268031,
     "user": {
      "displayName": "reza safarzadeh",
      "userId": "02487800440677019386"
     },
     "user_tz": 360
    },
    "id": "_nqBeR529rMT",
    "outputId": "09cb4672-9c1e-4a9c-ef86-91daf6a98a46"
   },
   "outputs": [],
   "source": [
    "# create trajectory collection based on TAXI_ID\n",
    "traj_collection_taxi= mpd.TrajectoryCollection(taxi_data, \"TAXI_ID\", t=\"datetime\", y=\"latitude\", x=\"longitude\", crs=4326)\n",
    "print(traj_collection_taxi)"
   ]
  },
  {
   "cell_type": "code",
   "execution_count": null,
   "metadata": {
    "colab": {
     "base_uri": "https://localhost:8080/",
     "height": 678,
     "output_embedded_package_id": "10CGYPhnAdE-kXSzY5p9QN9S55CMQc6b4"
    },
    "executionInfo": {
     "elapsed": 3444,
     "status": "ok",
     "timestamp": 1742336404438,
     "user": {
      "displayName": "reza safarzadeh",
      "userId": "02487800440677019386"
     },
     "user_tz": 360
    },
    "id": "UhOHuqGa9rMT",
    "outputId": "88645875-a89a-4169-a9a8-65efa1406a43"
   },
   "outputs": [],
   "source": [
    "traj_collection_taxi.explore(\n",
    "    column=\"TAXI_ID\",\n",
    "    legend=True,\n",
    "    style_kwds={'weight': 5},\n",
    "    cmap=\"Set1\")"
   ]
  },
  {
   "cell_type": "markdown",
   "metadata": {
    "id": "TCOk4oqN9rMW"
   },
   "source": [
    "### Converting TrajectoryCollections back to GeoDataFrames\n"
   ]
  },
  {
   "cell_type": "code",
   "execution_count": null,
   "metadata": {
    "colab": {
     "base_uri": "https://localhost:8080/",
     "height": 175
    },
    "executionInfo": {
     "elapsed": 55,
     "status": "ok",
     "timestamp": 1742327221851,
     "user": {
      "displayName": "reza safarzadeh",
      "userId": "02487800440677019386"
     },
     "user_tz": 360
    },
    "id": "cEVBZ_029rMW",
    "outputId": "ca9c40bd-7dd4-4734-edb3-01caad777aaf"
   },
   "outputs": [],
   "source": [
    "traj_collection.to_point_gdf().head(3)"
   ]
  },
  {
   "cell_type": "markdown",
   "metadata": {
    "id": "_MY7HxQKzAu5"
   },
   "source": [
    "Useful when want to visualize data in ArcGIS, or QGIS"
   ]
  },
  {
   "cell_type": "code",
   "execution_count": null,
   "metadata": {
    "colab": {
     "base_uri": "https://localhost:8080/",
     "height": 143
    },
    "executionInfo": {
     "elapsed": 1292,
     "status": "ok",
     "timestamp": 1742327231648,
     "user": {
      "displayName": "reza safarzadeh",
      "userId": "02487800440677019386"
     },
     "user_tz": 360
    },
    "id": "cB31XV1o9rMX",
    "outputId": "ef075508-3701-4603-d6a2-15fa4112a6db"
   },
   "outputs": [],
   "source": [
    "traj_collection.to_line_gdf().head(3)"
   ]
  },
  {
   "cell_type": "code",
   "execution_count": null,
   "metadata": {
    "colab": {
     "base_uri": "https://localhost:8080/",
     "height": 196
    },
    "executionInfo": {
     "elapsed": 1010,
     "status": "ok",
     "timestamp": 1742327285768,
     "user": {
      "displayName": "reza safarzadeh",
      "userId": "02487800440677019386"
     },
     "user_tz": 360
    },
    "id": "1iiSlF3d9rMX",
    "outputId": "4279387d-0e81-4c11-9529-edc5015bce35"
   },
   "outputs": [],
   "source": [
    "traj_collection.to_traj_gdf(wkt=True).head(3)"
   ]
  },
  {
   "cell_type": "code",
   "execution_count": null,
   "metadata": {
    "id": "WRZoMUtnzPYd"
   },
   "outputs": [],
   "source": [
    "traj_collection.to_traj_gdf(wkt=True).to_csv(\"taxi_porto_traj_line.csv\")"
   ]
  },
  {
   "cell_type": "markdown",
   "metadata": {
    "id": "bJYA7MCO9rMX"
   },
   "source": [
    "### Wroking with individual trajectory in trajectory collection"
   ]
  },
  {
   "cell_type": "code",
   "execution_count": null,
   "metadata": {
    "colab": {
     "base_uri": "https://localhost:8080/"
    },
    "executionInfo": {
     "elapsed": 44,
     "status": "ok",
     "timestamp": 1742328057647,
     "user": {
      "displayName": "reza safarzadeh",
      "userId": "02487800440677019386"
     },
     "user_tz": 360
    },
    "id": "6K3E1pb69rMX",
    "outputId": "21c02285-4700-4d41-c290-d986860173d8"
   },
   "outputs": [],
   "source": [
    "my_traj = traj_collection.trajectories[1]\n",
    "print(my_traj)"
   ]
  },
  {
   "cell_type": "code",
   "execution_count": null,
   "metadata": {
    "colab": {
     "base_uri": "https://localhost:8080/",
     "height": 673
    },
    "executionInfo": {
     "elapsed": 103,
     "status": "ok",
     "timestamp": 1742328202890,
     "user": {
      "displayName": "reza safarzadeh",
      "userId": "02487800440677019386"
     },
     "user_tz": 360
    },
    "id": "YG14YbXo9rMX",
    "outputId": "ae2f52a3-c255-4c43-a0ef-d47cc46982d8"
   },
   "outputs": [],
   "source": [
    "m = my_traj.explore(style_kwds={'weight': 10}, name=\"Trajectory 1\")\n",
    "my_traj.df.explore(style_kwds={'weight': 10, 'color': 'red'}, m=m, name=\"Trajectory 1 points\")\n",
    "#add a layer control to the map\n",
    "folium.LayerControl().add_to(m)\n",
    "m\n",
    "\n",
    "#m.save(\"my_traj.html\")"
   ]
  },
  {
   "cell_type": "markdown",
   "metadata": {
    "id": "kWkbCv9M9rMX"
   },
   "source": [
    "Even if the TrajectoryCollection GeoDataFrame does not contain a speed column, we can still plot movement speed:"
   ]
  },
  {
   "cell_type": "code",
   "execution_count": null,
   "metadata": {
    "colab": {
     "base_uri": "https://localhost:8080/",
     "height": 673
    },
    "executionInfo": {
     "elapsed": 125,
     "status": "ok",
     "timestamp": 1742328251517,
     "user": {
      "displayName": "reza safarzadeh",
      "userId": "02487800440677019386"
     },
     "user_tz": 360
    },
    "id": "qg_nze2s9rMX",
    "outputId": "ea70863f-b16f-4921-88ed-056186c89697"
   },
   "outputs": [],
   "source": [
    "my_traj.explore(column='speed', style_kwds={'weight': 15})"
   ]
  }
 ],
 "metadata": {
  "colab": {
   "provenance": []
  },
  "kernelspec": {
   "display_name": "base",
   "language": "python",
   "name": "python3"
  },
  "language_info": {
   "codemirror_mode": {
    "name": "ipython",
    "version": 3
   },
   "file_extension": ".py",
   "mimetype": "text/x-python",
   "name": "python",
   "nbconvert_exporter": "python",
   "pygments_lexer": "ipython3",
   "version": "3.12.3"
  }
 },
 "nbformat": 4,
 "nbformat_minor": 0
}
